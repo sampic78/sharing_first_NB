{
 "cells": [
  {
   "cell_type": "code",
   "execution_count": null,
   "id": "a894eb38-366f-4367-81cf-1589d664ba33",
   "metadata": {},
   "outputs": [],
   "source": [
    "print(\"hello\")\n",
    "import os\n",
    "print(os.getcwd())\n",
    "\n",
    "\n"
   ]
  },
  {
   "cell_type": "markdown",
   "id": "bf14d54c-8de1-4594-94df-12fbbf718521",
   "metadata": {},
   "source": [
    "# Data Science Tools and Ecosystem"
   ]
  },
  {
   "cell_type": "markdown",
   "id": "aefd3d1f-ed88-4312-b6da-cf2c76afc9dd",
   "metadata": {},
   "source": [
    "## **Objectives**\n",
    "\n",
    "* Tools\n",
    "* Libraries\n",
    "* Language"
   ]
  },
  {
   "cell_type": "markdown",
   "id": "dc7f4db1-008b-4044-846f-a2d2d1cc3837",
   "metadata": {},
   "source": [
    "In this notebook, Data Science Tools and Ecosystem are summarized."
   ]
  },
  {
   "attachments": {},
   "cell_type": "markdown",
   "id": "63e56145-4879-4fad-b5c3-9910bf7acb86",
   "metadata": {},
   "source": [
    "Some of the popular languages that Data Scientists use are:\n",
    "1. Python\n",
    "2. R\n",
    "3. SQL"
   ]
  },
  {
   "cell_type": "markdown",
   "id": "16c58caa-96fd-4603-bcb7-33cc11eed011",
   "metadata": {},
   "source": [
    "Some of the commonly used libraries used by Data Scientists include:\n",
    "1. Dply\n",
    "2. ggplot\n",
    "3. pandas"
   ]
  },
  {
   "cell_type": "markdown",
   "id": "4af7fb6d-1248-4972-81b6-1c500c24a15e",
   "metadata": {},
   "source": [
    "| DS Tools |\n",
    "|-------------|\n",
    "|Rstudio|\n",
    "|VScode|\n",
    "|Anaconda|"
   ]
  },
  {
   "cell_type": "markdown",
   "id": "4b901ddd-97f8-4a66-9d9f-8ae70250c9f6",
   "metadata": {},
   "source": [
    "### Below are a few examples of evaluating arithmetic expressions in Python"
   ]
  },
  {
   "cell_type": "code",
   "execution_count": 9,
   "id": "4104e0d8-71d7-4821-ba1f-f5e59c7b7718",
   "metadata": {},
   "outputs": [
    {
     "data": {
      "text/plain": [
       "17"
      ]
     },
     "execution_count": 9,
     "metadata": {},
     "output_type": "execute_result"
    }
   ],
   "source": [
    "#This a simple arithmetic expression to mutiply then add integers\n",
    "(3*4)+5"
   ]
  },
  {
   "cell_type": "code",
   "execution_count": 12,
   "id": "c884b757-bdbe-4244-9952-35c68b3ed6ba",
   "metadata": {},
   "outputs": [
    {
     "name": "stdout",
     "output_type": "stream",
     "text": [
      "3.33\n"
     ]
    }
   ],
   "source": [
    "#This will convert 200 minutes to hours by diving by 60\n",
    "x=round(200/60,2)\n",
    "print(x)"
   ]
  },
  {
   "cell_type": "markdown",
   "id": "89ab2e79-fbb6-4d64-b1de-ef4a9b458ac7",
   "metadata": {},
   "source": [
    "## Author\n",
    "Samuel Michaud"
   ]
  }
 ],
 "metadata": {
  "kernelspec": {
   "display_name": "Python 3 (ipykernel)",
   "language": "python",
   "name": "python3"
  },
  "language_info": {
   "codemirror_mode": {
    "name": "ipython",
    "version": 3
   },
   "file_extension": ".py",
   "mimetype": "text/x-python",
   "name": "python",
   "nbconvert_exporter": "python",
   "pygments_lexer": "ipython3",
   "version": "3.11.7"
  }
 },
 "nbformat": 4,
 "nbformat_minor": 5
}
